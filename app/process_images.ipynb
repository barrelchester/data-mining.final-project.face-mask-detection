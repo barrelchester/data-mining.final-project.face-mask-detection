{
 "cells": [
  {
   "cell_type": "code",
   "execution_count": 2,
   "id": "positive-dover",
   "metadata": {},
   "outputs": [],
   "source": [
    "from config import Config\n",
    "from process_images import ImageProcessor"
   ]
  },
  {
   "cell_type": "code",
   "execution_count": 3,
   "id": "tamil-spouse",
   "metadata": {},
   "outputs": [],
   "source": [
    "conf = Config()"
   ]
  },
  {
   "cell_type": "code",
   "execution_count": 4,
   "id": "injured-christmas",
   "metadata": {},
   "outputs": [],
   "source": [
    "image_proc = ImageProcessor(conf)"
   ]
  },
  {
   "cell_type": "code",
   "execution_count": null,
   "id": "separated-wesley",
   "metadata": {},
   "outputs": [],
   "source": [
    "image_proc.process_images()"
   ]
  },
  {
   "cell_type": "code",
   "execution_count": null,
   "id": "informed-infrared",
   "metadata": {},
   "outputs": [],
   "source": [
    "im_arrays, im_names, y_binary, y_subj, y_mask_stat, y_mask_type, y_angle = image_proc.load_data()"
   ]
  },
  {
   "cell_type": "code",
   "execution_count": null,
   "id": "freelance-center",
   "metadata": {},
   "outputs": [],
   "source": [
    "im_index = random.randint(0, len(im_names)-1)\n",
    "image_proc.show_image(im_index, im_arrays, im_names, y_binary, y_subj, y_mask_stat, y_mask_type, y_angle)"
   ]
  }
 ],
 "metadata": {
  "kernelspec": {
   "display_name": "Python 3",
   "language": "python",
   "name": "python3"
  },
  "language_info": {
   "codemirror_mode": {
    "name": "ipython",
    "version": 3
   },
   "file_extension": ".py",
   "mimetype": "text/x-python",
   "name": "python",
   "nbconvert_exporter": "python",
   "pygments_lexer": "ipython3",
   "version": "3.9.1"
  }
 },
 "nbformat": 4,
 "nbformat_minor": 5
}
